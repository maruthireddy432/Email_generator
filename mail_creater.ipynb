{
 "cells": [
  {
   "cell_type": "code",
   "execution_count": 1,
   "metadata": {},
   "outputs": [],
   "source": [
    "from langchain_groq import ChatGroq\n",
    "import os"
   ]
  },
  {
   "cell_type": "code",
   "execution_count": 2,
   "metadata": {},
   "outputs": [],
   "source": [
    "# extract api key\n",
    "files = os.listdir('.')\n",
    "key_file = [file for file in files if file.endswith('.txt')]   \n",
    "with open(key_file[0], 'r') as file:\n",
    "    key = file.read()"
   ]
  },
  {
   "cell_type": "code",
   "execution_count": 36,
   "metadata": {},
   "outputs": [],
   "source": [
    "llm = ChatGroq(\n",
    "    temperature=0, \n",
    "    groq_api_key=key, \n",
    "    model_name=\"gemma2-9b-it\"\n",
    ")"
   ]
  },
  {
   "cell_type": "code",
   "execution_count": null,
   "metadata": {},
   "outputs": [],
   "source": [
    "# extracting page content\n",
    "from langchain_community.document_loaders import WebBaseLoader\n",
    "\n",
    "loader = WebBaseLoader(\"https://www.accenture.com/in-en/careers/jobdetails?id=ATCI-4643529-S1792693_en&title=Responsible%20AI%20Engineer\",)\n",
    "page_data = loader.load().pop().page_content\n",
    "print(page_data)"
   ]
  },
  {
   "cell_type": "code",
   "execution_count": 29,
   "metadata": {},
   "outputs": [],
   "source": [
    "from langchain_core.prompts import PromptTemplate\n",
    "\n",
    "prompt_extract = PromptTemplate.from_template(\n",
    "        \"\"\"\n",
    "        ### SCRAPED TEXT FROM WEBSITE:\n",
    "        {page_data}\n",
    "        ### INSTRUCTION:\n",
    "        The scraped text is from the career's page of a website.\n",
    "        Your job is to extract the job postings and return them in JSON format containing the \n",
    "        following keys: `role`, `experience`, `skills`, Qualification and `description`.\n",
    "        Only return the valid JSON.\n",
    "        ### VALID JSON (NO PREAMBLE):    \n",
    "        \"\"\"\n",
    ")\n",
    "\n",
    "chain_extract = prompt_extract | llm \n",
    "res = chain_extract.invoke(input={'page_data':page_data})\n"
   ]
  },
  {
   "cell_type": "code",
   "execution_count": 30,
   "metadata": {},
   "outputs": [
    {
     "data": {
      "text/plain": [
       "[{'role': 'Responsible AI Engineer',\n",
       "  'experience': 'Minimum 3 year(s)',\n",
       "  'skills': 'Machine Learning',\n",
       "  'Qualification': '15 years full time education',\n",
       "  'description': 'As a Responsible AI Engineer, you will assess AI systems for adherence to predefined thresholds and benchmarks related to responsible, ethical, and sustainable practices. Design and implement technology mitigation strategies for systems to ensure ethical and responsible standards are achieved.\\n\\nRoles & Responsibilities:\\n- Expected to perform independently and become an SME.\\n- Required active participation/contribution in team discussions.\\n- Contribute in providing solutions to work-related problems.\\n- Develop and implement AI system assessment frameworks.\\n- Collaborate with cross-functional teams to ensure ethical AI practices.\\n- Research and stay updated on responsible AI trends and best practices.\\n- Provide guidance on ethical decision-making in AI implementations.\\n- Conduct audits to evaluate AI systems for ethical compliance.\\n\\nProfessional & Technical Skills:\\n- Must To Have Skills: Proficiency in Machine Learning.\\n- Strong understanding of statistical analysis and machine learning algorithms.\\n- Experience with data visualization tools such as Tableau or Power BI.\\n- Hands-on implementing various machine learning algorithms such as linear regression, logistic regression, decision trees, and clustering algorithms.\\n- Solid grasp of data munging techniques, including data cleaning, transformation, and normalization to ensure data quality and integrity.'}]"
      ]
     },
     "execution_count": 30,
     "metadata": {},
     "output_type": "execute_result"
    }
   ],
   "source": [
    "from langchain_core.output_parsers import JsonOutputParser\n",
    "# as the output is string so that we will use JsonOutputParser to parse the output\n",
    "json_parser = JsonOutputParser()\n",
    "json_res = json_parser.parse(res.content)\n",
    "json_res"
   ]
  },
  {
   "cell_type": "code",
   "execution_count": 31,
   "metadata": {},
   "outputs": [
    {
     "name": "stdout",
     "output_type": "stream",
     "text": [
      "{'role': 'Responsible AI Engineer',  'experience': 'Minimum 3 years',  'skills': {'mustHave': ['Machine Learning'], 'goodToHave': ['NLP']},  'qualification': '15 years full-time education',  'description': 'Assess AI systems for adherence to predefined thresholds and benchmarks related to responsible, ethical, and sustainable practices. Design and implement technology mitigation strategies for systems to ensure ethical and responsible standards are achieved.'}\n"
     ]
    },
    {
     "data": {
      "text/plain": [
       "{'role': 'Responsible AI Engineer',\n",
       " 'experience': 'Minimum 3 years',\n",
       " 'skills': {'mustHave': ['Machine Learning'], 'goodToHave': ['NLP']},\n",
       " 'qualification': '15 years full-time education',\n",
       " 'description': 'Assess AI systems for adherence to predefined thresholds and benchmarks related to responsible, ethical, and sustainable practices. Design and implement technology mitigation strategies for systems to ensure ethical and responsible standards are achieved.'}"
      ]
     },
     "execution_count": 31,
     "metadata": {},
     "output_type": "execute_result"
    }
   ],
   "source": [
    "description = input(\"Enter the description: \")\n",
    "print(description)\n",
    "\n",
    "# extracting content from description\n",
    "chain_transform = prompt_extract | llm \n",
    "res = chain_extract.invoke(input={'page_data':description})\n",
    "\n",
    "# parsing content to json\n",
    "json_res_trans = json_parser.parse(res.content)\n",
    "json_res_trans"
   ]
  },
  {
   "cell_type": "code",
   "execution_count": 37,
   "metadata": {},
   "outputs": [
    {
     "name": "stdout",
     "output_type": "stream",
     "text": [
      "Subject: Responsible AI Engineer - [Your Name]\n",
      "\n",
      "Hi [Recruiter Name],\n",
      "\n",
      "I came across your company's career page while researching opportunities in responsible AI, and I was immediately drawn to the \"Responsible AI Engineer\" role. With over 3 years of experience in machine learning and a strong passion for developing ethical and sustainable AI systems, I believe my skills align perfectly with what you're looking for.\n",
      "\n",
      "I've been particularly focused on incorporating responsible AI principles into my work, including designing mitigation strategies to ensure fairness and transparency. My experience with NLP further strengthens my ability to contribute to projects that prioritize ethical considerations in AI development.\n",
      "\n",
      "Would you be open to a quick chat to discuss potential opportunities at [Company Name]? I'm eager to learn more about your team and how my expertise can contribute to your mission.\n",
      "\n",
      "Best regards,\n",
      "\n",
      "[Your Name] \n",
      "\n",
      "\n",
      "\n"
     ]
    }
   ],
   "source": [
    "email_prompt = PromptTemplate.from_template(\n",
    "    \"\"\"\n",
    "    ### JOB DESCRIPTION:\"\n",
    "    \"{description}\"\n",
    "    ### INSTRUCTION:\"\n",
    "    \"The text is from the career's page of a website.your job is to Write a professional yet conversational cold email to a recruiter. The email should feel natural and engaging while maintaining a polished tone.\n",
    "    Start with a warm introduction, briefly mention how the sender came across the recruiter, and highlight relevant AI and machine learning experience.\n",
    "    Keep the focus on key skills like responsible AI, NLP, and ethical AI practices without sounding overly formal or templated.\n",
    "    The email should flow smoothly, avoiding bullet points, and include a clear call to action—such as requesting a quick chat about potential opportunities.\n",
    "    The length should be concise, ideally under 150 words, while still making a strong impression.\n",
    "    (NO PREAMBLE)\n",
    "    \"\"\"\n",
    "    )\n",
    "\n",
    "chain_email = email_prompt | llm\n",
    "email_text = chain_email.invoke(input={'description':description})\n",
    "print(email_text.content)"
   ]
  },
  {
   "cell_type": "markdown",
   "metadata": {},
   "source": [
    "Extracting pdf"
   ]
  },
  {
   "cell_type": "code",
   "execution_count": null,
   "metadata": {},
   "outputs": [],
   "source": [
    "file_path=r\"D:\\Kalyani_datascience.docx\"\n",
    "\n",
    "import fitz  # PyMuPDF for PDF\n",
    "from docx import Document  # python-docx for DOCX\n",
    "import os\n",
    "\n",
    "def extract_text(file_path):\n",
    "    # Check file extension\n",
    "    file_extension = os.path.splitext(file_path)[1]\n",
    "    \n",
    "    if file_extension.lower() == \".pdf\":\n",
    "        return extract_text_from_pdf(file_path)\n",
    "    elif file_extension.lower() == \".docx\":\n",
    "        return extract_text_from_docx(file_path)\n",
    "    else:\n",
    "        raise ValueError(\"Unsupported file format. Please use a PDF or DOCX file.\")\n",
    "\n",
    "def extract_text_from_pdf(pdf_path):\n",
    "    doc = fitz.open(pdf_path)\n",
    "    text = \"\\n\".join([page.get_text() for page in doc])\n",
    "    return text\n",
    "\n",
    "def extract_text_from_docx(docx_path):\n",
    "    doc = Document(docx_path)\n",
    "    text = []\n",
    "\n",
    "    # Extract text from paragraphs\n",
    "    for para in doc.paragraphs:\n",
    "        text.append(para.text)\n",
    "\n",
    "    # Extract text from tables\n",
    "    for table in doc.tables:\n",
    "        for row in table.rows:\n",
    "            row_text = [cell.text.strip() for cell in row.cells]\n",
    "            text.append(\"\\t\".join(row_text))  # Join columns with tab spacing\n",
    "\n",
    "    return \"\\n\".join(text)\n",
    "\n",
    "text = extract_text(file_path)\n",
    "print(text)\n"
   ]
  },
  {
   "cell_type": "code",
   "execution_count": null,
   "metadata": {},
   "outputs": [],
   "source": [
    "prompt_extract = PromptTemplate.from_template(\n",
    "    \"\"\"\n",
    "    ### DOCUMENT TEXT:\n",
    "    {text}\n",
    "    ### INSTRUCTION:\n",
    "    The text is extracted from a resume. Your job is to extract the key information from the document and return the following details in JSON format:\n",
    "    1. Name\n",
    "    2. Email\n",
    "    3. Phone Number\n",
    "    4. Skills\n",
    "    5. Experience\n",
    "    6. Certifications\n",
    "    7. Projects\n",
    "    8. Summary\n",
    "    Only return the valid JSON.\n",
    "    ### VALID JSON (NO PREAMBLE):    \n",
    "    \"\"\"\n",
    ")\n",
    "res_text= prompt_extract | llm\n",
    "res = res_text.invoke(input={'text':text})\n",
    "res= json_parser.parse(res.content)\n",
    "res"
   ]
  },
  {
   "cell_type": "code",
   "execution_count": null,
   "metadata": {},
   "outputs": [],
   "source": [
    "email_prompt = PromptTemplate.from_template(\n",
    "    \"\"\"\n",
    "    ### RESUME TEXT:\n",
    "    \"{text}\"\n",
    "    ### JOB DESCRIPTION:\n",
    "    {description}\n",
    "    ### INSTRUCTION:\n",
    "    The text is extracted from a resume. Your job is to write a professional yet conversational cold email to a recruiter. The email should feel natural and engaging while maintaining a polished tone.\n",
    "    Start with a warm introduction, briefly mention the details, and highlight relevant experience and project details.\n",
    "    Keep the focus on key skills from the resume text without sounding overly formal or templated.\n",
    "    The email should flow smoothly, avoiding bullet points, and include a clear call to action—such as requesting a quick chat about potential opportunities.\n",
    "    The length should be concise, ideally under 200 words, while still making a strong impression.Mention the relevant details like name and everything in the email.\n",
    "    (NO PREAMBLE)\n",
    "    \"\"\"\n",
    ")\n",
    "c_email = email_prompt | llm\n",
    "e_text = c_email.invoke(input={'text':text,'description':description })\n",
    "print(e_text.content)"
   ]
  }
 ],
 "metadata": {
  "kernelspec": {
   "display_name": "Python 3",
   "language": "python",
   "name": "python3"
  },
  "language_info": {
   "codemirror_mode": {
    "name": "ipython",
    "version": 3
   },
   "file_extension": ".py",
   "mimetype": "text/x-python",
   "name": "python",
   "nbconvert_exporter": "python",
   "pygments_lexer": "ipython3",
   "version": "3.12.3"
  }
 },
 "nbformat": 4,
 "nbformat_minor": 2
}
